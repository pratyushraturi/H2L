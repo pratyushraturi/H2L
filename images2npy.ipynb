{
 "cells": [
  {
   "cell_type": "code",
   "execution_count": 1,
   "metadata": {},
   "outputs": [
    {
     "name": "stderr",
     "output_type": "stream",
     "text": [
      "/usr/lib/python3.6/site-packages/h5py/__init__.py:36: FutureWarning: Conversion of the second argument of issubdtype from `float` to `np.floating` is deprecated. In future, it will be treated as `np.float64 == np.dtype(float).type`.\n",
      "  from ._conv import register_converters as _register_converters\n"
     ]
    }
   ],
   "source": [
    "import numpy as np\n",
    "from os import listdir\n",
    "from skimage import io\n",
    "import matplotlib.pyplot as plt\n",
    "from skimage.transform import resize, rotate\n",
    "from skimage.util import random_noise\n",
    "import tensorflow as tf\n",
    "import math\n",
    "import os"
   ]
  },
  {
   "cell_type": "code",
   "execution_count": 2,
   "metadata": {},
   "outputs": [],
   "source": [
    "path = \"normalized/test\"\n",
    "label_names = ['0', '1', '2', '3', '4', '5', '6', '7', '8', '9', '-', '+', '=', 'leq', 'neq', 'geq', 'alpha',\n",
    "               'beta', 'lambda', 'lt', 'gt', 'x', 'y']\n",
    "nof_labels = len(label_names)"
   ]
  },
  {
   "cell_type": "code",
   "execution_count": 3,
   "metadata": {},
   "outputs": [
    {
     "name": "stdout",
     "output_type": "stream",
     "text": [
      "#nof_images:  52446\n",
      "{'0': 0, '1': 1, '2': 2, '3': 3, '4': 4, '5': 5, '6': 6, '7': 7, '8': 8, '9': 9, '-': 10, '+': 11, '=': 12, 'leq': 13, 'neq': 14, 'geq': 15, 'alpha': 16, 'beta': 17, 'lambda': 18, 'lt': 19, 'gt': 20, 'x': 21, 'y': 22}\n"
     ]
    }
   ],
   "source": [
    "nof_images = 0\n",
    "\n",
    "# get number of images\n",
    "labels_dict = dict()\n",
    "i = 0\n",
    "for label in label_names:\n",
    "    files = listdir(path+\"/\"+label)\n",
    "    nof_images += len(files)\n",
    "    labels_dict[label] = i\n",
    "    i += 1\n",
    "print(\"#nof_images: \", nof_images)\n",
    "print(labels_dict)\n",
    "\n",
    "images = np.zeros((nof_images, 48, 48), dtype=np.float32)\n",
    "labels = np.zeros(nof_images, dtype=np.int)"
   ]
  },
  {
   "cell_type": "code",
   "execution_count": 12,
   "metadata": {},
   "outputs": [
    {
     "name": "stdout",
     "output_type": "stream",
     "text": [
      "At i=0\n",
      "At i=10000\n",
      "At i=20000\n",
      "At i=30000\n",
      "At i=40000\n",
      "At i=50000\n",
      "Finished\n"
     ]
    }
   ],
   "source": [
    "i = 0\n",
    "for label in label_names:\n",
    "    files = listdir(path+\"/\"+label)\n",
    "    label_no = labels_dict[label]\n",
    "    \n",
    "    for file in files:\n",
    "        if i % 10000 == 0:\n",
    "            print(\"At i=%d\" % i)\n",
    "        img = io.imread(path+\"/\"+label+\"/\"+file).astype(np.float32)\n",
    "        img /= 255\n",
    "               \n",
    "        images[i] = img\n",
    "        labels[i] = label_no\n",
    "\n",
    "        i += 1\n",
    "print(\"Finished\")"
   ]
  },
  {
   "cell_type": "code",
   "execution_count": 13,
   "metadata": {},
   "outputs": [
    {
     "data": {
      "image/png": "[encoded data removed]",
      "text/plain": [
       "<Figure size 432x288 with 1 Axes>"
      ]
     },
     "metadata": {},
     "output_type": "display_data"
    }
   ],
   "source": [
    "plt.hist(labels, nof_labels)\n",
    "plt.show()"
   ]
  },
  {
   "cell_type": "code",
   "execution_count": 14,
   "metadata": {},
   "outputs": [
    {
     "data": {
      "image/png": "[encoded data removed]",
      "text/plain": [
       "<Figure size 432x288 with 1 Axes>"
      ]
     },
     "metadata": {},
     "output_type": "display_data"
    }
   ],
   "source": [
    "plt.imshow(images[10000], cmap=\"gray\")\n",
    "plt.show()"
   ]
  },
  {
   "cell_type": "code",
   "execution_count": 15,
   "metadata": {},
   "outputs": [],
   "source": [
    "np.save(\"test_images\", images)\n",
    "np.save(\"test_labels\", labels)"
   ]
  }
 ],
 "metadata": {
  "kernelspec": {
   "display_name": "Python 3",
   "language": "python",
   "name": "python3"
  },
  "language_info": {
   "codemirror_mode": {
    "name": "ipython",
    "version": 3
   },
   "file_extension": ".py",
   "mimetype": "text/x-python",
   "name": "python",
   "nbconvert_exporter": "python",
   "pygments_lexer": "ipython3",
   "version": "3.6.6"
  }
 },
 "nbformat": 4,
 "nbformat_minor": 2
}
